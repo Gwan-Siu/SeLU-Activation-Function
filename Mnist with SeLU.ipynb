{
 "cells": [
  {
   "cell_type": "code",
   "execution_count": 3,
   "metadata": {
    "collapsed": false
   },
   "outputs": [],
   "source": [
    "from SNN import SeLU,Dropout_SeLU"
   ]
  },
  {
   "cell_type": "code",
   "execution_count": 7,
   "metadata": {
    "collapsed": false
   },
   "outputs": [
    {
     "name": "stdout",
     "output_type": "stream",
     "text": [
      "('x_train shape:', (60000, 28, 28, 1))\n",
      "(60000, 'train samples')\n",
      "(10000, 'test samples')\n",
      "Train on 60000 samples, validate on 10000 samples\n",
      "Epoch 1/12\n",
      "60000/60000 [==============================] - 265s - loss: 0.3340 - acc: 0.8949 - val_loss: 0.1183 - val_acc: 0.9647\n",
      "Epoch 2/12\n",
      "60000/60000 [==============================] - 270s - loss: 0.0914 - acc: 0.9723 - val_loss: 0.0760 - val_acc: 0.9753\n",
      "Epoch 3/12\n",
      "60000/60000 [==============================] - 291s - loss: 0.0559 - acc: 0.9830 - val_loss: 0.0597 - val_acc: 0.9813\n",
      "Epoch 4/12\n",
      "60000/60000 [==============================] - 271s - loss: 0.0389 - acc: 0.9876 - val_loss: 0.0460 - val_acc: 0.9846\n",
      "Epoch 5/12\n",
      "60000/60000 [==============================] - 269s - loss: 0.0271 - acc: 0.9919 - val_loss: 0.0430 - val_acc: 0.9868\n",
      "Epoch 6/12\n",
      "60000/60000 [==============================] - 259s - loss: 0.0206 - acc: 0.9937 - val_loss: 0.0470 - val_acc: 0.9863\n",
      "Epoch 7/12\n",
      "60000/60000 [==============================] - 269s - loss: 0.0150 - acc: 0.9958 - val_loss: 0.0467 - val_acc: 0.9855\n",
      "Epoch 8/12\n",
      "60000/60000 [==============================] - 267s - loss: 0.0112 - acc: 0.9966 - val_loss: 0.0461 - val_acc: 0.9860\n",
      "Epoch 9/12\n",
      "60000/60000 [==============================] - 241s - loss: 0.0078 - acc: 0.9978 - val_loss: 0.0487 - val_acc: 0.9868\n",
      "Epoch 10/12\n",
      "60000/60000 [==============================] - 251s - loss: 0.0061 - acc: 0.9983 - val_loss: 0.0497 - val_acc: 0.9858\n",
      "Epoch 11/12\n",
      "60000/60000 [==============================] - 245s - loss: 0.0043 - acc: 0.9989 - val_loss: 0.0511 - val_acc: 0.9867\n",
      "Epoch 12/12\n",
      "60000/60000 [==============================] - 242s - loss: 0.0029 - acc: 0.9993 - val_loss: 0.0490 - val_acc: 0.9864\n",
      "('Test loss:', 0.04901118523425612)\n",
      "('Test accuracy:', 0.98640000000000005)\n"
     ]
    }
   ],
   "source": [
    "import keras\n",
    "from keras.datasets import mnist\n",
    "from keras.models import Sequential\n",
    "from keras.layers import Dense, Dropout, Flatten\n",
    "from keras.layers import Conv2D, MaxPooling2D\n",
    "from keras import backend as K\n",
    "from keras import initializers\n",
    "\n",
    "batch_size = 128\n",
    "num_classes = 10\n",
    "epochs = 12\n",
    "alpha1 = 1.6732632423543772848170429916717\n",
    "scale1 = 1.0507009873554804934193349852946\n",
    "\n",
    "# input image dimensions\n",
    "img_rows, img_cols = 28, 28\n",
    "\n",
    "# the data, shuffled and split between train and test sets\n",
    "(x_train, y_train), (x_test, y_test) = mnist.load_data()\n",
    "\n",
    "if K.image_data_format() == 'channels_first':\n",
    "    x_train = x_train.reshape(x_train.shape[0], 1, img_rows, img_cols)\n",
    "    x_test = x_test.reshape(x_test.shape[0], 1, img_rows, img_cols)\n",
    "    input_shape = (1, img_rows, img_cols)\n",
    "else:\n",
    "    x_train = x_train.reshape(x_train.shape[0], img_rows, img_cols, 1)\n",
    "    x_test = x_test.reshape(x_test.shape[0], img_rows, img_cols, 1)\n",
    "    input_shape = (img_rows, img_cols, 1)\n",
    "\n",
    "x_train = x_train.astype('float32')\n",
    "x_test = x_test.astype('float32')\n",
    "x_train /= 255.0\n",
    "x_test /= 255.0\n",
    "print('x_train shape:', x_train.shape)\n",
    "print(x_train.shape[0], 'train samples')\n",
    "print(x_test.shape[0], 'test samples')\n",
    "\n",
    "# convert class vectors to binary class matrices\n",
    "y_train = keras.utils.to_categorical(y_train, num_classes)\n",
    "y_test = keras.utils.to_categorical(y_test, num_classes)\n",
    "\n",
    "model = Sequential()\n",
    "model.add(Conv2D(32, kernel_size=(3, 3),kernel_initializer=initializers.RandomNormal(stddev=1./batch_size),\n",
    "                 input_shape=input_shape))\n",
    "model.add(SeLU(alpha=alpha1,scale=scale1))\n",
    "model.add(Conv2D(64, kernel_size=(3, 3),kernel_initializer=initializers.RandomNormal(stddev=1./32)))\n",
    "model.add(SeLU(alpha=alpha1,scale=scale1))\n",
    "#model.add(Dropout_SeLU(rate=0.25))\n",
    "model.add(MaxPooling2D(pool_size=(2, 2)))\n",
    "model.add(Flatten())\n",
    "model.add(Dense(128,kernel_initializer=initializers.RandomNormal(stddev=1./64)))\n",
    "model.add(SeLU(alpha=alpha1,scale=scale1))\n",
    "model.add(Dense(num_classes, kernel_initializer=initializers.RandomNormal(stddev=1./128),activation='softmax'))\n",
    "#model.add(Dropout_SeLU(rate=0.25))\n",
    "\n",
    "model.compile(loss=keras.losses.categorical_crossentropy,\n",
    "              optimizer=keras.optimizers.Adadelta(),\n",
    "              metrics=['accuracy'])\n",
    "#tbCallBack = keras.callbacks.TensorBoard(log_dir='./log', histogram_freq=0,\n",
    "                                         #write_graph=True, write_images=True)\n",
    "model.fit(x_train, y_train,\n",
    "          batch_size=batch_size,\n",
    "          epochs=epochs,\n",
    "          verbose=1,\n",
    "          validation_data=(x_test, y_test))\n",
    "score = model.evaluate(x_test, y_test, verbose=0)\n",
    "print('Test loss:', score[0])\n",
    "print('Test accuracy:', score[1])"
   ]
  },
  {
   "cell_type": "code",
   "execution_count": null,
   "metadata": {
    "collapsed": true
   },
   "outputs": [],
   "source": []
  }
 ],
 "metadata": {
  "anaconda-cloud": {},
  "kernelspec": {
   "display_name": "Python [conda root]",
   "language": "python",
   "name": "conda-root-py"
  },
  "language_info": {
   "codemirror_mode": {
    "name": "ipython",
    "version": 2
   },
   "file_extension": ".py",
   "mimetype": "text/x-python",
   "name": "python",
   "nbconvert_exporter": "python",
   "pygments_lexer": "ipython2",
   "version": "2.7.12"
  }
 },
 "nbformat": 4,
 "nbformat_minor": 1
}
